{
 "cells": [
  {
   "cell_type": "code",
   "execution_count": 39,
   "metadata": {
    "collapsed": true
   },
   "outputs": [
    {
     "name": "stdout",
     "output_type": "stream",
     "text": [
      "Enter the city or country you want to analyze: india\n"
     ]
    }
   ],
   "source": [
    "val = input('Enter the city or country you want to analyze: ')"
   ]
  },
  {
   "cell_type": "code",
   "execution_count": 40,
   "metadata": {
    "scrolled": false
   },
   "outputs": [],
   "source": [
    "from newsapi import NewsApiClient\n",
    "\n",
    "newsapi = NewsApiClient(api_key='[insert api key here]')\n",
    "\n",
    "x = ' AND (politics OR government OR public affairs OR state affairs OR diplomacy OR party OR parliament or minister OR law)'\n",
    "\n",
    "all_articles = newsapi.get_everything(q= val + x,\n",
    "                                      sources='bbc-news, abc-news, al-jazeera-english, ary-news, cbs-news, cnbc, cnn, fox-news, google-news, independent, msnbc, nbc-news, news24, new-york-magazine, politico, reuters, the-hindu, the-new-york-times, the-washington-post',\n",
    "                                      from_param='2019-04-22',\n",
    "                                      to='2019-05-30',\n",
    "                                      language='en')"
   ]
  },
  {
   "cell_type": "code",
   "execution_count": 41,
   "metadata": {
    "collapsed": true
   },
   "outputs": [
    {
     "data": {
      "text/html": [
       "<div>\n",
       "<style scoped>\n",
       "    .dataframe tbody tr th:only-of-type {\n",
       "        vertical-align: middle;\n",
       "    }\n",
       "\n",
       "    .dataframe tbody tr th {\n",
       "        vertical-align: top;\n",
       "    }\n",
       "\n",
       "    .dataframe thead th {\n",
       "        text-align: right;\n",
       "    }\n",
       "</style>\n",
       "<table border=\"1\" class=\"dataframe\">\n",
       "  <thead>\n",
       "    <tr style=\"text-align: right;\">\n",
       "      <th></th>\n",
       "      <th>status</th>\n",
       "      <th>totalResults</th>\n",
       "      <th>source</th>\n",
       "      <th>author</th>\n",
       "      <th>title</th>\n",
       "      <th>description</th>\n",
       "      <th>url</th>\n",
       "      <th>urlToImage</th>\n",
       "      <th>publishedAt</th>\n",
       "      <th>content</th>\n",
       "    </tr>\n",
       "  </thead>\n",
       "  <tbody>\n",
       "    <tr>\n",
       "      <th>0</th>\n",
       "      <td>ok</td>\n",
       "      <td>2378</td>\n",
       "      <td>{'id': 'bbc-news', 'name': 'BBC News'}</td>\n",
       "      <td>https://www.facebook.com/bbcnews</td>\n",
       "      <td>India election 2019: Echoes of Trump in Modi's...</td>\n",
       "      <td>Narendra Modi and Donald Trump have used anti-...</td>\n",
       "      <td>https://www.bbc.co.uk/news/world-asia-india-48...</td>\n",
       "      <td>https://ichef.bbci.co.uk/news/1024/branded_new...</td>\n",
       "      <td>2019-05-20T23:06:31Z</td>\n",
       "      <td>Image copyrightGetty ImagesImage caption\\r\\n T...</td>\n",
       "    </tr>\n",
       "    <tr>\n",
       "      <th>1</th>\n",
       "      <td>ok</td>\n",
       "      <td>2378</td>\n",
       "      <td>{'id': 'bbc-news', 'name': 'BBC News'}</td>\n",
       "      <td>https://www.facebook.com/bbcnews</td>\n",
       "      <td>India election 2019: The killer air no one's t...</td>\n",
       "      <td>Pollution killed 1.2 million Indians in 2017, ...</td>\n",
       "      <td>https://www.bbc.co.uk/news/world-asia-india-48...</td>\n",
       "      <td>https://ichef.bbci.co.uk/news/1024/branded_new...</td>\n",
       "      <td>2019-05-03T01:24:06Z</td>\n",
       "      <td>Image copyrightGetty Images\\r\\nPollution kille...</td>\n",
       "    </tr>\n",
       "    <tr>\n",
       "      <th>2</th>\n",
       "      <td>ok</td>\n",
       "      <td>2378</td>\n",
       "      <td>{'id': 'the-new-york-times', 'name': 'The New ...</td>\n",
       "      <td>ALISHA HARIDASANI GUPTA</td>\n",
       "      <td>Your Monday Briefing</td>\n",
       "      <td>Prime Minister Scott Morrison in Sydney on Sat...</td>\n",
       "      <td>https://www.nytimes.com/2019/05/19/briefing/au...</td>\n",
       "      <td>https://static01.nyt.com/images/2019/05/19/bri...</td>\n",
       "      <td>2019-05-19T19:50:13Z</td>\n",
       "      <td>Prime Minister Narendra Modi, one of the most ...</td>\n",
       "    </tr>\n",
       "    <tr>\n",
       "      <th>3</th>\n",
       "      <td>ok</td>\n",
       "      <td>2378</td>\n",
       "      <td>{'id': 'bbc-news', 'name': 'BBC News'}</td>\n",
       "      <td>https://www.facebook.com/bbcnews</td>\n",
       "      <td>India election 2019: Exit polls see Narendra M...</td>\n",
       "      <td>Exit polls suggest a win for Prime Minister Na...</td>\n",
       "      <td>https://www.bbc.co.uk/news/world-asia-india-48...</td>\n",
       "      <td>https://ichef.bbci.co.uk/news/1024/branded_new...</td>\n",
       "      <td>2019-05-19T13:22:03Z</td>\n",
       "      <td>Image copyrightGetty ImagesImage caption\\r\\n M...</td>\n",
       "    </tr>\n",
       "    <tr>\n",
       "      <th>4</th>\n",
       "      <td>ok</td>\n",
       "      <td>2378</td>\n",
       "      <td>{'id': 'bbc-news', 'name': 'BBC News'}</td>\n",
       "      <td>https://www.facebook.com/bbcnews</td>\n",
       "      <td>Can India’s political prince unseat the PM?</td>\n",
       "      <td>Rahul Gandhi has energised a struggling party ...</td>\n",
       "      <td>https://www.bbc.co.uk/news/world-asia-india-47...</td>\n",
       "      <td>https://ichef.bbci.co.uk/news/1024/branded_new...</td>\n",
       "      <td>2019-04-24T23:17:51Z</td>\n",
       "      <td>Image copyrightGetty ImagesImage caption\\r\\n R...</td>\n",
       "    </tr>\n",
       "  </tbody>\n",
       "</table>\n",
       "</div>"
      ],
      "text/plain": [
       "  status  totalResults                                             source  \\\n",
       "0     ok          2378             {'id': 'bbc-news', 'name': 'BBC News'}   \n",
       "1     ok          2378             {'id': 'bbc-news', 'name': 'BBC News'}   \n",
       "2     ok          2378  {'id': 'the-new-york-times', 'name': 'The New ...   \n",
       "3     ok          2378             {'id': 'bbc-news', 'name': 'BBC News'}   \n",
       "4     ok          2378             {'id': 'bbc-news', 'name': 'BBC News'}   \n",
       "\n",
       "                             author  \\\n",
       "0  https://www.facebook.com/bbcnews   \n",
       "1  https://www.facebook.com/bbcnews   \n",
       "2           ALISHA HARIDASANI GUPTA   \n",
       "3  https://www.facebook.com/bbcnews   \n",
       "4  https://www.facebook.com/bbcnews   \n",
       "\n",
       "                                               title  \\\n",
       "0  India election 2019: Echoes of Trump in Modi's...   \n",
       "1  India election 2019: The killer air no one's t...   \n",
       "2                               Your Monday Briefing   \n",
       "3  India election 2019: Exit polls see Narendra M...   \n",
       "4        Can India’s political prince unseat the PM?   \n",
       "\n",
       "                                         description  \\\n",
       "0  Narendra Modi and Donald Trump have used anti-...   \n",
       "1  Pollution killed 1.2 million Indians in 2017, ...   \n",
       "2  Prime Minister Scott Morrison in Sydney on Sat...   \n",
       "3  Exit polls suggest a win for Prime Minister Na...   \n",
       "4  Rahul Gandhi has energised a struggling party ...   \n",
       "\n",
       "                                                 url  \\\n",
       "0  https://www.bbc.co.uk/news/world-asia-india-48...   \n",
       "1  https://www.bbc.co.uk/news/world-asia-india-48...   \n",
       "2  https://www.nytimes.com/2019/05/19/briefing/au...   \n",
       "3  https://www.bbc.co.uk/news/world-asia-india-48...   \n",
       "4  https://www.bbc.co.uk/news/world-asia-india-47...   \n",
       "\n",
       "                                          urlToImage           publishedAt  \\\n",
       "0  https://ichef.bbci.co.uk/news/1024/branded_new...  2019-05-20T23:06:31Z   \n",
       "1  https://ichef.bbci.co.uk/news/1024/branded_new...  2019-05-03T01:24:06Z   \n",
       "2  https://static01.nyt.com/images/2019/05/19/bri...  2019-05-19T19:50:13Z   \n",
       "3  https://ichef.bbci.co.uk/news/1024/branded_new...  2019-05-19T13:22:03Z   \n",
       "4  https://ichef.bbci.co.uk/news/1024/branded_new...  2019-04-24T23:17:51Z   \n",
       "\n",
       "                                             content  \n",
       "0  Image copyrightGetty ImagesImage caption\\r\\n T...  \n",
       "1  Image copyrightGetty Images\\r\\nPollution kille...  \n",
       "2  Prime Minister Narendra Modi, one of the most ...  \n",
       "3  Image copyrightGetty ImagesImage caption\\r\\n M...  \n",
       "4  Image copyrightGetty ImagesImage caption\\r\\n R...  "
      ]
     },
     "execution_count": 41,
     "metadata": {},
     "output_type": "execute_result"
    }
   ],
   "source": [
    "import pandas as pd\n",
    "\n",
    "all_articles = pd.DataFrame.from_dict(all_articles)\n",
    "all_articles = pd.concat([all_articles.drop(['articles'], axis=1), all_articles['articles'].apply(pd.Series)], axis=1)\n",
    "all_articles.head()"
   ]
  },
  {
   "cell_type": "code",
   "execution_count": 42,
   "metadata": {},
   "outputs": [],
   "source": [
    "delimiter = ' '\n",
    "df = all_articles.groupby('title')['content'].apply(lambda x: \"%s\" % delimiter.join(x)).reset_index()"
   ]
  },
  {
   "cell_type": "code",
   "execution_count": 47,
   "metadata": {},
   "outputs": [],
   "source": [
    "from vaderSentiment.vaderSentiment import SentimentIntensityAnalyzer\n",
    "\n",
    "analyser = SentimentIntensityAnalyzer()\n",
    "\n",
    "for row in df.itertuples():\n",
    "    text = df.iloc[:, 1].tolist()\n",
    "    contents = \" \".join(str(x) for x in text)\n",
    "    score = analyser.polarity_scores(contents)"
   ]
  },
  {
   "cell_type": "code",
   "execution_count": 49,
   "metadata": {
    "collapsed": true
   },
   "outputs": [
    {
     "name": "stdout",
     "output_type": "stream",
     "text": [
      "0.073\n",
      "Sentiment(polarity=0.07369658119658119, subjectivity=0.40373931623931614)\n"
     ]
    }
   ],
   "source": [
    "print(score)"
   ]
  }
 ],
 "metadata": {
  "kernelspec": {
   "display_name": "Python 3",
   "language": "python",
   "name": "python3"
  },
  "language_info": {
   "codemirror_mode": {
    "name": "ipython",
    "version": 3
   },
   "file_extension": ".py",
   "mimetype": "text/x-python",
   "name": "python",
   "nbconvert_exporter": "python",
   "pygments_lexer": "ipython3",
   "version": "3.7.1"
  }
 },
 "nbformat": 4,
 "nbformat_minor": 2
}
