{
 "cells": [
  {
   "cell_type": "code",
   "execution_count": null,
   "metadata": {},
   "outputs": [],
   "source": [
    "#to get the city or country\n",
    "\n",
    "val = input('Enter the city or country you want to analyze: ')"
   ]
  },
  {
   "cell_type": "code",
   "execution_count": null,
   "metadata": {},
   "outputs": [],
   "source": [
    "#retrieves the political news articles from the news api\n",
    "\n",
    "from newsapi import NewsApiClient\n",
    "\n",
    "newsapi = NewsApiClient(api_key='[insert api key here]')\n",
    "\n",
    "#this is for the keywords. This ensures that only political news are collected\n",
    "x = ' AND (politics OR government OR public affairs OR state affairs OR diplomacy OR party OR parliament or minister OR law)'\n",
    "\n",
    "all_articles = newsapi.get_everything(q= val + x,\n",
    "                                      sources='bbc-news, abc-news, al-jazeera-english, ary-news, cbs-news, cnbc, cnn, fox-news, google-news, independent, msnbc, nbc-news, news24, new-york-magazine, politico, reuters, the-hindu, the-new-york-times, the-washington-post',\n",
    "                                      from_param='2019-04-22',\n",
    "                                      to='2019-05-30',\n",
    "                                      language='en')"
   ]
  },
  {
   "cell_type": "code",
   "execution_count": null,
   "metadata": {},
   "outputs": [],
   "source": [
    "#to convert the json format into dataframe\n",
    "\n",
    "import pandas as pd\n",
    "\n",
    "all_articles = pd.DataFrame.from_dict(all_articles)\n",
    "all_articles = pd.concat([all_articles.drop(['articles'], axis=1), all_articles['articles'].apply(pd.Series)], axis=1)\n",
    "all_articles.head()"
   ]
  },
  {
   "cell_type": "code",
   "execution_count": null,
   "metadata": {},
   "outputs": [],
   "source": [
    "delimiter = ' '\n",
    "df = all_articles.groupby('title')['content'].apply(lambda x: \"%s\" % delimiter.join(x)).reset_index()"
   ]
  },
  {
   "cell_type": "code",
   "execution_count": null,
   "metadata": {},
   "outputs": [],
   "source": [
    "#sentiment analysis using vader\n",
    "\n",
    "from vaderSentiment.vaderSentiment import SentimentIntensityAnalyzer\n",
    "\n",
    "analyser = SentimentIntensityAnalyzer()\n",
    "\n",
    "for row in df.itertuples():\n",
    "    text = df.iloc[:, 1].tolist()\n",
    "    contents = \" \".join(str(x) for x in text)\n",
    "    score = analyser.polarity_scores(contents)"
   ]
  },
  {
   "cell_type": "code",
   "execution_count": null,
   "metadata": {},
   "outputs": [],
   "source": [
    "print(score)"
   ]
  }
 ],
 "metadata": {
  "kernelspec": {
   "display_name": "Python 3",
   "language": "python",
   "name": "python3"
  },
  "language_info": {
   "codemirror_mode": {
    "name": "ipython",
    "version": 3
   },
   "file_extension": ".py",
   "mimetype": "text/x-python",
   "name": "python",
   "nbconvert_exporter": "python",
   "pygments_lexer": "ipython3",
   "version": "3.7.1"
  }
 },
 "nbformat": 4,
 "nbformat_minor": 2
}
